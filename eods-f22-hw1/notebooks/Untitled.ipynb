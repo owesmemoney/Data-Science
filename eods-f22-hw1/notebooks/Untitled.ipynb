{
 "cells": [
  {
   "cell_type": "code",
   "execution_count": 1,
   "id": "fb14b0d9",
   "metadata": {},
   "outputs": [],
   "source": [
    "import pandas as pd\n",
    "import numpy as np\n",
    "import matplotlib.pyplot as plt\n",
    "import seaborn as sns\n",
    "\n",
    "sns.set_style('darkgrid')\n",
    "\n",
    "%matplotlib inline"
   ]
  },
  {
   "cell_type": "code",
   "execution_count": 13,
   "id": "28babfd4",
   "metadata": {},
   "outputs": [
    {
     "name": "stdout",
     "output_type": "stream",
     "text": [
      "   Temp Rain_Fall\n",
      "0    70       Yes\n",
      "1    60        No\n",
      "2    85       Yes\n",
      "3    90        No\n"
     ]
    }
   ],
   "source": [
    "df1 = pd.DataFrame([[70, 'Yes'],\n",
    "                    [60, 'No'],\n",
    "                    [85, 'Yes'],\n",
    "                    [90, 'No']],\n",
    "                   columns = ['Temp','Rain_Fall'])\n",
    "print(df1)"
   ]
  },
  {
   "cell_type": "code",
   "execution_count": 14,
   "id": "54f4a5e7",
   "metadata": {},
   "outputs": [
    {
     "data": {
      "text/html": [
       "<div>\n",
       "<style scoped>\n",
       "    .dataframe tbody tr th:only-of-type {\n",
       "        vertical-align: middle;\n",
       "    }\n",
       "\n",
       "    .dataframe tbody tr th {\n",
       "        vertical-align: top;\n",
       "    }\n",
       "\n",
       "    .dataframe thead th {\n",
       "        text-align: right;\n",
       "    }\n",
       "</style>\n",
       "<table border=\"1\" class=\"dataframe\">\n",
       "  <thead>\n",
       "    <tr style=\"text-align: right;\">\n",
       "      <th></th>\n",
       "      <th>Temp</th>\n",
       "      <th>Rain_Fall</th>\n",
       "    </tr>\n",
       "  </thead>\n",
       "  <tbody>\n",
       "    <tr>\n",
       "      <th>2</th>\n",
       "      <td>85</td>\n",
       "      <td>Yes</td>\n",
       "    </tr>\n",
       "  </tbody>\n",
       "</table>\n",
       "</div>"
      ],
      "text/plain": [
       "   Temp Rain_Fall\n",
       "2    85       Yes"
      ]
     },
     "execution_count": 14,
     "metadata": {},
     "output_type": "execute_result"
    }
   ],
   "source": [
    "df1.loc[(df1.Temp > 75) & (df1.Rain_Fall == 'Yes')]"
   ]
  },
  {
   "cell_type": "code",
   "execution_count": 15,
   "id": "721df258",
   "metadata": {},
   "outputs": [],
   "source": [
    "num_cols = 5"
   ]
  },
  {
   "cell_type": "code",
   "execution_count": 105,
   "id": "499ccd5a",
   "metadata": {},
   "outputs": [
    {
     "name": "stdout",
     "output_type": "stream",
     "text": [
      "Invalid Operation\n"
     ]
    }
   ],
   "source": [
    "try:\n",
    "    assert(len(df1) == num_cols),\"Invalid Operation\"\n",
    "except AssertionError as msg:\n",
    "    print(msg)"
   ]
  },
  {
   "cell_type": "code",
   "execution_count": 169,
   "id": "f7213a07",
   "metadata": {},
   "outputs": [],
   "source": [
    "num_iterations =10\n",
    "trim = .5*(1-.8) * num_iterations\n",
    "trim = int(np.round(trim))\n"
   ]
  },
  {
   "cell_type": "code",
   "execution_count": 170,
   "id": "9eeb835a",
   "metadata": {},
   "outputs": [
    {
     "data": {
      "text/plain": [
       "array([0.41, 0.79])"
      ]
     },
     "execution_count": 170,
     "metadata": {},
     "output_type": "execute_result"
    }
   ],
   "source": [
    "random_means = np.array([0.49, 0.54, 0.69, 0.79, 0.81, 0.46, 0.41, 0.71 , 0.62, 0.18])\n",
    "ci = np.sort(random_means)[[trim,-trim-1]] # sort the array first!\n",
    "ci.round(2)"
   ]
  },
  {
   "cell_type": "code",
   "execution_count": null,
   "id": "687d290b",
   "metadata": {},
   "outputs": [],
   "source": []
  }
 ],
 "metadata": {
  "kernelspec": {
   "display_name": "eods-f22",
   "language": "python",
   "name": "eods-f22"
  },
  "language_info": {
   "codemirror_mode": {
    "name": "ipython",
    "version": 3
   },
   "file_extension": ".py",
   "mimetype": "text/x-python",
   "name": "python",
   "nbconvert_exporter": "python",
   "pygments_lexer": "ipython3",
   "version": "3.10.6"
  }
 },
 "nbformat": 4,
 "nbformat_minor": 5
}
